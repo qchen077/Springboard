{
 "cells": [
  {
   "cell_type": "markdown",
   "metadata": {},
   "source": [
    "This exercise will require you to pull some data from https://data.nasdaq.com/ (formerly Quandl API)."
   ]
  },
  {
   "cell_type": "markdown",
   "metadata": {},
   "source": [
    "As a first step, you will need to register a free account on the https://data.nasdaq.com/ website."
   ]
  },
  {
   "cell_type": "markdown",
   "metadata": {},
   "source": [
    "After you register, you will be provided with a unique API key, that you should store:\n",
    "\n",
    "*Note*: Use a `.env` file and put your key in there and `python-dotenv` to access it in this notebook. \n",
    "\n",
    "The code below uses a key that was used when generating this project but has since been deleted. Never submit your keys to source control. There is a `.env-example` file in this repository to illusrtate what you need. Copy that to a file called `.env` and use your own api key in that `.env` file. Make sure you also have a `.gitignore` file with a line for `.env` added to it. \n",
    "\n",
    "The standard Python gitignore is [here](https://github.com/github/gitignore/blob/master/Python.gitignore) you can just copy that. "
   ]
  },
  {
   "cell_type": "code",
   "execution_count": 89,
   "metadata": {
    "tags": []
   },
   "outputs": [
    {
     "name": "stdout",
     "output_type": "stream",
     "text": [
      "KRfk96yoWvruWZ-LjPbo\n"
     ]
    }
   ],
   "source": [
    "# get api key from your .env file\n",
    "import os\n",
    "from dotenv import load_dotenv\n",
    "\n",
    "load_dotenv()\n",
    "#API_KEY = os.getenv('NASDAQ_API_KEY')\n",
    "API_KEY = 'KRfk96yoWvruWZ-LjPbo'\n",
    "#nasdaq_API_KEY = 'qfPsJ3HTGMMce5X4pmLb'\n",
    "print(API_KEY)"
   ]
  },
  {
   "cell_type": "markdown",
   "metadata": {},
   "source": [
    "Nasdaq Data has a large number of data sources, but, unfortunately, most of them require a Premium subscription. Still, there are also a good number of free datasets."
   ]
  },
  {
   "cell_type": "markdown",
   "metadata": {},
   "source": [
    "For this mini project, we will focus on equities data from the Frankfurt Stock Exhange (FSE), which is available for free. We'll try and analyze the stock prices of a company called Carl Zeiss Meditec, which manufactures tools for eye examinations, as well as medical lasers for laser eye surgery: https://www.zeiss.com/meditec/int/home.html. The company is listed under the stock ticker AFX_X."
   ]
  },
  {
   "cell_type": "markdown",
   "metadata": {},
   "source": [
    "You can find the detailed Nasdaq Data API instructions here: https://docs.data.nasdaq.com/docs/in-depth-usage"
   ]
  },
  {
   "cell_type": "markdown",
   "metadata": {},
   "source": [
    "While there is a dedicated Python package for connecting to the Nasdaq API, we would prefer that you use the *requests* package, which can be easily downloaded using *pip* or *conda*. You can find the documentation for the package here: http://docs.python-requests.org/en/master/ "
   ]
  },
  {
   "cell_type": "markdown",
   "metadata": {},
   "source": [
    "Finally, apart from the *requests* package, you are encouraged to not use any third party Python packages, such as *pandas*, and instead focus on what's available in the Python Standard Library (the *collections* module might come in handy: https://pymotw.com/3/collections/).\n",
    "Also, since you won't have access to DataFrames, you are encouraged to us Python's native data structures - preferably dictionaries, though some questions can also be answered using lists.\n",
    "You can read more on these data structures here: https://docs.python.org/3/tutorial/datastructures.html"
   ]
  },
  {
   "cell_type": "markdown",
   "metadata": {},
   "source": [
    "Keep in mind that the JSON responses you will be getting from the API map almost one-to-one to Python's dictionaries. Unfortunately, they can be very nested, so make sure you read up on indexing dictionaries in the documentation provided above."
   ]
  },
  {
   "cell_type": "code",
   "execution_count": 90,
   "metadata": {
    "tags": []
   },
   "outputs": [],
   "source": [
    "# First, import the relevant modules\n",
    "import requests\n",
    "from pprint import pprint\n",
    "import json"
   ]
  },
  {
   "cell_type": "markdown",
   "metadata": {},
   "source": [
    "Note: API's can change a bit with each version, for this exercise it is reccomended to use the nasdaq api at `https://data.nasdaq.com/api/v3/`. This is the same api as what used to be quandl so `https://www.quandl.com/api/v3/` should work too.\n",
    "\n",
    "Hint: We are looking for the `AFX_X` data on the `datasets/FSE/` dataset."
   ]
  },
  {
   "cell_type": "code",
   "execution_count": 86,
   "metadata": {
    "tags": []
   },
   "outputs": [],
   "source": [
    "# Now, call the Nasdaq API and pull out a small sample of the data (only one day) to get a glimpse\n",
    "# into the JSON structure that will be returned\n",
    "#url = 'https://data.nasdaq.com/api/v3/'+API_KEY+'&start_date=2023-11-06&end_date=2023-11-06'\n",
    "url = 'https://data.nasdaq.com/api/v3/datasets/FSE/AFX_X/?api_key&start_date=2017-01-01&end_date=2017-12-31'\n",
    "r = requests.get(url)"
   ]
  },
  {
   "cell_type": "code",
   "execution_count": 91,
   "metadata": {
    "tags": []
   },
   "outputs": [],
   "source": [
    "# Inspect the JSON structure of the object you created, and take note of how nested it is,\n",
    "# as well as the overall structure\n",
    "\n",
    "json_data = r.json()\n",
    "#print(json_data)"
   ]
  },
  {
   "cell_type": "markdown",
   "metadata": {},
   "source": [
    "These are your tasks for this mini project:\n",
    "\n",
    "1. Collect data from the Franfurt Stock Exchange, for the ticker AFX_X, for the whole year 2017 (keep in mind that the date format is YYYY-MM-DD).\n",
    "2. Convert the returned JSON object into a Python dictionary.\n",
    "3. Calculate what the highest and lowest opening prices were for the stock in this period.\n",
    "4. What was the largest change in any one day (based on High and Low price)?\n",
    "5. What was the largest change between any two days (based on Closing Price)?\n",
    "6. What was the average daily trading volume during this year?\n",
    "7. (Optional) What was the median trading volume during this year. (Note: you may need to implement your own function for calculating the median.)"
   ]
  },
  {
   "cell_type": "code",
   "execution_count": 80,
   "metadata": {},
   "outputs": [],
   "source": [
    "#1. Collect data from the Frankfurt Stock Exchange, for the ticker AFX_X, for the whole year 2017 (keep in mind that the \n",
    "#date format is YYYY-MM-DD)."
   ]
  },
  {
   "cell_type": "code",
   "execution_count": 92,
   "metadata": {},
   "outputs": [],
   "source": [
    "url = 'https://data.nasdaq.com/api/v3/datasets/FSE/AFX_X/?api_key&start_date=2017-01-01&end_date=2017-12-31'\n",
    "r1 = requests.get(url)"
   ]
  },
  {
   "cell_type": "code",
   "execution_count": 82,
   "metadata": {
    "tags": []
   },
   "outputs": [],
   "source": [
    "#2. Convert the returned JSON object into a Python dictionary."
   ]
  },
  {
   "cell_type": "code",
   "execution_count": 93,
   "metadata": {
    "tags": []
   },
   "outputs": [],
   "source": [
    "data = r1.json()\n",
    "#data['dataset']\n",
    "#data['dataset']['data']"
   ]
  },
  {
   "cell_type": "code",
   "execution_count": 111,
   "metadata": {
    "tags": []
   },
   "outputs": [
    {
     "name": "stdout",
     "output_type": "stream",
     "text": [
      "The highest and lowest opening prices in 2017 were 53.11 and 34.0\n"
     ]
    }
   ],
   "source": [
    "#3. Calculate what the highest and lowest opening prices were for the stock in this period.\n",
    "\n",
    "#data['dataset']['data']: This part accesses the 'data' key in the 'dataset' dictionary within the 'data' dictionary. \n",
    "#It represents the list of lists containing the financial data.\n",
    "#Output:['2017-12-29', 51.76, 51.94, 51.45, 51.76, None, 34640.0, 1792304.0, None, None, None]\n",
    "\n",
    "#for row in data['dataset']['data']: This is a loop that iterates over each list (row) in the 'data' list.\n",
    "\n",
    "#if row[1] is not None: This is a conditional statement that checks if the second element in the row is not equal to None. \n",
    "#It filters out rows where the opening price is None.\n",
    "opening_prices = [row[1] for row in data['dataset']['data'] if row[1] is not None]\n",
    "\n",
    "# Calculate the highest and lowest opening prices\n",
    "highest_opening_prices = max(opening_prices)\n",
    "lowest_opening_prices = min(opening_prices)\n",
    "\n",
    "print('The highest and lowest opening prices in 2017 were {} and {}'.format(max(opening_prices), min(opening_prices)))"
   ]
  },
  {
   "cell_type": "code",
   "execution_count": 123,
   "metadata": {
    "tags": []
   },
   "outputs": [
    {
     "name": "stdout",
     "output_type": "stream",
     "text": [
      "The largest change in any one day is 2.81\n"
     ]
    }
   ],
   "source": [
    "#4. What was the largest change in any one day (based on High and Low price)?\n",
    "high_prices = [row[2] for row in data['dataset']['data'] if row[2] is not None]\n",
    "low_prices = [row[3] for row in data['dataset']['data'] if row[3] is not None]\n",
    "\n",
    "# Calculate changes between high and low prices\n",
    "changes = [row[2] - row[3] for row in data['dataset']['data'] if row[2] is not None and row[3] is not None]\n",
    "\n",
    "# Find the largest changes\n",
    "largest_change = max(changes)\n",
    "\n",
    "# This will display the value of largest_change with two decimal places in the output.\n",
    "print('The largest change in any one day is {:.2f}'.format(largest_change))"
   ]
  },
  {
   "cell_type": "code",
   "execution_count": 163,
   "metadata": {
    "tags": []
   },
   "outputs": [
    {
     "name": "stdout",
     "output_type": "stream",
     "text": [
      "The largest change between any two days is 15.80\n"
     ]
    }
   ],
   "source": [
    "#5. What was the largest change between any two days (based on Closing Price)?\n",
    "closing_price = [row[4] for row in data['dataset']['data'] if row[4] is not None]\n",
    "\n",
    "#range(1, len(closing_prices)): This creates a range of indices from 1 to the length of closing_prices. The purpose of \n",
    "#starting from 1 is to ensure that we have a pair of indices (i, i-1) for the calculation.\n",
    "\n",
    "#(closing_prices[i] - closing_prices[i - 1] for i in range(c, len(closing_prices))): This is a generator expression that \n",
    "#calculates the difference between each closing price and the closing price on the previous day. It iterates through the \n",
    "#range of indices.\n",
    "\n",
    "#max(...): This function finds the maximum value among the differences calculated in the generator expression.\n",
    "#问题(closing_prices[i] - closing_prices[i - 1] or (closing_prices[i] - closing_prices[i - 2]??????????????????\n",
    "largest_change_between_twoD = max(closing_price[i] - closing_price[i-2] for i in range(1, len(closing_price)))\n",
    "\n",
    "print('The largest change between any two days is {:.2f}'.format(largest_change_between_twoD))"
   ]
  },
  {
   "cell_type": "code",
   "execution_count": 147,
   "metadata": {
    "tags": []
   },
   "outputs": [
    {
     "name": "stdout",
     "output_type": "stream",
     "text": [
      "The average daily trading volume in 2017 is 89124.34.\n"
     ]
    }
   ],
   "source": [
    "#6. What was the average daily trading volume during this year?\n",
    "TradingVol = [row[6] for row in data['dataset']['data'] if row[6] is not None]\n",
    "averageDVol = sum(TradingVol) / len(TradingVol)\n",
    "\n",
    "print('The average daily trading volume in 2017 is {:.2f}.'.format(averageDVol))"
   ]
  },
  {
   "cell_type": "code",
   "execution_count": 161,
   "metadata": {
    "tags": []
   },
   "outputs": [
    {
     "name": "stdout",
     "output_type": "stream",
     "text": [
      "The median trading volume in 2017: 76286.0\n"
     ]
    }
   ],
   "source": [
    "#7. (Optional) What was the median trading volume during this year. (Note: you may need to implement your own function \n",
    "#for calculating the median.)\n",
    "\n",
    "# Define a function to calculate the median\n",
    "def cal_median (values):\n",
    "    sorted_values = sorted(values)\n",
    "    n = len(sorted_values)\n",
    "\n",
    "    # If the number of values is even, it takes the average of the middle two values.\n",
    "    if n%2 == 0:\n",
    "        middle1 = sorted_values[n // 2 - 1]\n",
    "        middle2 = sorted_values[n // 2]\n",
    "        median = (middle1 + middle2) / 2\n",
    "    # If the number is odd, it takes the middle value.   \n",
    "    else:\n",
    "        median = sorted_values [n // 2]\n",
    "    \n",
    "    return median\n",
    "\n",
    "# Calculating the median trading volume in 2017\n",
    "median_trading_vol = cal_median(TradingVol)\n",
    "\n",
    "print(f'The median trading volume in 2017: {median_trading_vol}')"
   ]
  }
 ],
 "metadata": {
  "interpreter": {
   "hash": "7635eb1b9d0fe97add78a7368b6b431c09bb8ad5c42e437d64abdd99821c31ae"
  },
  "kernelspec": {
   "display_name": "Python 3 (ipykernel)",
   "language": "python",
   "name": "python3"
  },
  "language_info": {
   "codemirror_mode": {
    "name": "ipython",
    "version": 3
   },
   "file_extension": ".py",
   "mimetype": "text/x-python",
   "name": "python",
   "nbconvert_exporter": "python",
   "pygments_lexer": "ipython3",
   "version": "3.10.13"
  }
 },
 "nbformat": 4,
 "nbformat_minor": 4
}
